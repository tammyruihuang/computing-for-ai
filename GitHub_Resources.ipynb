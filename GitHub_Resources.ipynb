{
  "nbformat": 4,
  "nbformat_minor": 0,
  "metadata": {
    "colab": {
      "provenance": [],
      "authorship_tag": "ABX9TyNz6s1TnDaERmH/J177hnq1",
      "include_colab_link": true
    },
    "kernelspec": {
      "name": "python3",
      "display_name": "Python 3"
    },
    "language_info": {
      "name": "python"
    }
  },
  "cells": [
    {
      "cell_type": "markdown",
      "metadata": {
        "id": "view-in-github",
        "colab_type": "text"
      },
      "source": [
        "<a href=\"https://colab.research.google.com/github/tammyruihuang/computing-for-ai/blob/main/GitHub_Resources.ipynb\" target=\"_parent\"><img src=\"https://colab.research.google.com/assets/colab-badge.svg\" alt=\"Open In Colab\"/></a>"
      ]
    },
    {
      "cell_type": "markdown",
      "source": [
        "# **Additional Resources on GitHub**\n",
        "These resources may help you as you complete Module 3.\n",
        "\n",
        "\n",
        "\n",
        "*   [git](https://git-scm.com/)\n",
        "*   [GitHub](https://github.com/)\n",
        "*   [GitHub Education](https://education.github.com/): Information on how to sign up for the academic benefits for students and instructors.\n",
        "*   [Practicum AI discussion boards](https://github.com/orgs/PracticumAI/discussions)\n",
        "*   More detailed information on Git:\n",
        "  * [Pro Git](https://git-scm.com/book/en/v2): is a free online book that teaches git fundamentals, including advanced usage.\n",
        "  * [Oh Shit, Git!?!](https://ohshitgit.com/): Let's face it, git can be confusing and hard at times! This fun resource helps you work through recovering from some common mistakes.\n",
        "  * [How to Explain git in Simple Words](https://xosh.org/explain-git-in-simple-words/): A slightly more technical introduction to git than what we cover in this course.\n",
        "  * [Learn git Branching](https://learngitbranching.js.org/): An interactive tutorial on Git Branching.\n",
        "\n"
      ],
      "metadata": {
        "id": "9h2i5y_WzlT9"
      }
    },
    {
      "cell_type": "code",
      "execution_count": null,
      "metadata": {
        "id": "3miNR_q0zjfS"
      },
      "outputs": [],
      "source": []
    }
  ]
}